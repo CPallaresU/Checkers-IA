{
  "nbformat": 4,
  "nbformat_minor": 0,
  "metadata": {
    "colab": {
      "name": "checkersIA.ipynb",
      "provenance": [],
      "collapsed_sections": [
        "meUU-7XD9n7m",
        "vLtgnvxula9p",
        "W3oDq7UY4TA0",
        "rho7hYmj5YjT",
        "JsLNVzCk9saF",
        "nB7k0oo5-2wM",
        "wyCn5gdRhAyg",
        "tBK9q_p4hIAZ",
        "8wSvhOBI9UTS",
        "zFckyhumgwmu",
        "lwMBxBqrP24c",
        "8IgMFnWSzm2A",
        "ea8mcu3xzNWn",
        "79dsQsq853BQ"
      ]
    },
    "kernelspec": {
      "display_name": "Python 3",
      "name": "python3"
    }
  },
  "cells": [
    {
      "cell_type": "markdown",
      "metadata": {
        "id": "tysUWwfzdkWJ"
      },
      "source": [
        "#Checkers con IA - Team Skynet (Juan Lagares, Carlos Pallares y Eduardo Ahumada)\n",
        "\n",
        "El problema de jugar damas y nunca perder usando inteligencia artificial se abordó de la siguiente forma:\n",
        "\n",
        "1. Definición del tablero y fichas\n",
        "2. Movimientos\n",
        "3. Movimientos fichas damas\n",
        "4. Movimientos fichas normales\n",
        "5. Casos especiales de movimiento\n",
        "6. Creación de árbol e implementación de algoritmo minimax con poda \n",
        "\n",
        "\n"
      ]
    },
    {
      "cell_type": "code",
      "metadata": {
        "id": "szL3XUZK-NHy"
      },
      "source": [
        "import random \n",
        "import copy\n",
        "import numpy as np"
      ],
      "execution_count": null,
      "outputs": []
    },
    {
      "cell_type": "markdown",
      "metadata": {
        "id": "oLRDvBM9edGQ"
      },
      "source": [
        "# 1. Definición del tablero y fichas\n",
        "  ![tablero.png](data:image/png;base64,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)\n"
      ]
    },
    {
      "cell_type": "markdown",
      "metadata": {
        "id": "meUU-7XD9n7m"
      },
      "source": [
        "#Código de clase ficha y nodo de árbol\n",
        "\n",
        "Se define una posición basada en la imagen anterior, si mi ficha está en la casilla 55 y soy el oponente, se representará con -55 de lo contrario con 55.\n",
        "\n",
        "Se verifica si nuestra ficha es dama con la variable booleana kings y color_ es la variable que indica nuestro bando, -1 para rojas y 1 para blancas"
      ]
    },
    {
      "cell_type": "code",
      "metadata": {
        "id": "iBasjRoH5VKq"
      },
      "source": [
        "class piece:\n",
        "    def __init__(self, pos_,king,color_):\n",
        "      self.pos = pos_ \n",
        "      self.k=king\n",
        "      self.color= color_ # 1 para blanca , -1 para negra"
      ],
      "execution_count": null,
      "outputs": []
    },
    {
      "cell_type": "code",
      "metadata": {
        "id": "2l_JdFB4C6kO"
      },
      "source": [
        "class node:\n",
        "  def __init__(self,value,depth_,father):\n",
        "    self.player = player_\n",
        "    self.value = value_\n",
        "    self.depth = depth_\n",
        "    self.childs = []\n",
        "    self.father=father\n",
        "    self.createChilds()\n",
        "\n",
        "  def createChilds(self):\n",
        "    if self.depth >=0:\n",
        "      self.childs.append(node(-self.player, value,self.depth - 1))"
      ],
      "execution_count": null,
      "outputs": []
    },
    {
      "cell_type": "code",
      "metadata": {
        "id": "Y-g2LnU15SZS"
      },
      "source": [
        "class node_:\n",
        "    def __init__(self,ocupated,kings_,heuristica,jugada,ficha):\n",
        "        self.estado = ocupated # Single object\n",
        "        self.heuristica = heuristica  # Array of objects\n",
        "        self.kings=kings_\n",
        "        self.play=jugada\n",
        "        self.ficha=ficha\n",
        "        self.posibility=[]"
      ],
      "execution_count": null,
      "outputs": []
    },
    {
      "cell_type": "markdown",
      "metadata": {
        "id": "Hoa3sadzhXGH"
      },
      "source": [
        "#Movimiento\n",
        "El movimiento fue realizado basandose en el tablero inicialmente mostrado, si una ficha desea moverse a su izquierda vista desde el lado del tablero debe restarsele 9 casillas y para la derecha 7.\n",
        "\n",
        "Para saltar fichas (comer) a izquierda se verifica la disponibilidad de una casilla a 18 posiciones despues de nuestra ficha y 14 para la derecha.\n",
        "\n",
        "Para las damas se realiza exactamente lo mismo pero verificamos movimientos hacia atrás tambien.\n",
        "\n",
        "Un salto de ficha puede llevar a varios mas por lo cual esto es validado, cada vez que se salta una ficha se verifica si puede seguir saltando y se escoge una dirección random caso tal existan varias opciones de salto. Saltar puede llevarnos a ser damas al igual que hacer movimientos con fichas, esto está validado y se otorga un puntaje adicional al movimiento caso tal sea así.\n",
        "\n",
        "Saltar damas también adiciona puntos adicionales a diferencia de saltar una ficha convencional."
      ]
    },
    {
      "cell_type": "markdown",
      "metadata": {
        "id": "vLtgnvxula9p"
      },
      "source": [
        "#Código para ***mover ficha no dama*** en dirección izquierda y derecha"
      ]
    },
    {
      "cell_type": "code",
      "metadata": {
        "id": "1pZ5kaoCuQdw"
      },
      "source": [
        "def check_no_kill_no_king_derecha(piece, ocupated):\n",
        "\n",
        "  pos_1=piece.pos - 7\n",
        "  edges_izq=[1,9,17,25,33,41,49,57]\n",
        "  edges_der=[8,16,24,32,40,48,56,64]\n",
        "\n",
        "  if piece.pos > 0:\n",
        "\n",
        "    if  pos_1 not in ocupated and -pos_1 not in ocupated and abs(piece.pos) not in edges_der:\n",
        "      ocupated.remove(piece.pos)\n",
        "      ocupated.append(pos_1)\n",
        "      piece.pos=pos_1\n",
        "\n",
        "  else:\n",
        "\n",
        "    if  pos_1 not in ocupated and -pos_1 not in ocupated and abs(piece.pos) not in edges_izq:\n",
        "      ocupated.remove(piece.pos)\n",
        "      ocupated.append(pos_1)\n",
        "      piece.pos=pos_1\n",
        "\n",
        "def check_no_kill_no_king_izquierda(piece, ocupated):\n",
        "\n",
        "  pos_1=piece.pos - 9\n",
        "  edges_izq=[1,9,17,25,33,41,49,57]\n",
        "  edges_der=[8,16,24,32,40,48,56,64]\n",
        "\n",
        "  if piece.pos >0:\n",
        "\n",
        "    if  pos_1 not in ocupated and -pos_1 not in ocupated and abs(piece.pos) not in edges_izq:\n",
        "      ocupated.remove(piece.pos)\n",
        "      ocupated.append(pos_1)\n",
        "      piece.pos=pos_1\n",
        "\n",
        "  else:\n",
        "\n",
        "    if  pos_1 not in ocupated and -pos_1 not in ocupated and abs(piece.pos) not in edges_der:\n",
        "      ocupated.remove(piece.pos)\n",
        "      ocupated.append(pos_1)\n",
        "      piece.pos=pos_1\n"
      ],
      "execution_count": null,
      "outputs": []
    },
    {
      "cell_type": "markdown",
      "metadata": {
        "id": "W3oDq7UY4TA0"
      },
      "source": [
        "#Código para ***matar con ficha no dama*** a izquierda y derecha y verificando el no salirse del tablero\n",
        "\n",
        "Primero se verifica si la ficha puede saltar, de ser así entro en un ciclo while en el cual usamos esa opción de salto para verificar un nuevo salto y así iterativamente. En caso de tener varias opciones de salto en un turno se toma de forma aleatoria cual realizar. El ciclo while solo frenara sus itereaciones si estoy en una posición la cual no genera saltos. La última posición es devuelta y actualiza la posición de la ficha.\n"
      ]
    },
    {
      "cell_type": "code",
      "metadata": {
        "id": "RZX9QpAdX6U7"
      },
      "source": [
        "def check_kill_no_king_der(p, ocupated,edges):\n",
        "\n",
        "  pos_1=p.pos - 7\n",
        "  pos_2=p.pos - 14\n",
        "\n",
        "  if  -pos_1 in ocupated and pos_2 not in ocupated and -pos_2 not in ocupated and abs(pos_1) not in edges:\n",
        "    ocupated.remove(p.pos)\n",
        "    p.pos=pos_2\n",
        "    ocupated.remove(-pos_1)\n",
        "    ocupated.append(p.pos)\n",
        "\n",
        "\n",
        "def check_kill_no_king_izq(p,ocupated,edges):\n",
        "\n",
        "  pos_1=p.pos - 9\n",
        "  pos_2=p.pos - 18\n",
        "\n",
        "  if  -pos_1 in ocupated and pos_2 not in ocupated and -pos_2 not in ocupated and abs(pos_1) not in edges:\n",
        "    ocupated.remove(p.pos)\n",
        "    p.pos=pos_2\n",
        "    ocupated.remove(-pos_1)\n",
        "    ocupated.append(p.pos)\n",
        "    "
      ],
      "execution_count": null,
      "outputs": []
    },
    {
      "cell_type": "code",
      "metadata": {
        "id": "jD8mrNgjXe7K"
      },
      "source": [
        "import copy\n",
        "\n",
        "def check_kills_with_no_king(p,ocupated):\n",
        "\n",
        "  color=p.color\n",
        "  edges=[1,2,3,4,5,6,7,8,16,24,32,40,48,56,64,63,62,61,60,59,58,57,49,41,33,25,17,9]\n",
        "  lista=[]\n",
        "  while True:\n",
        "\n",
        "    piece_x=copy.deepcopy(p)\n",
        "    ocupated_x=copy.deepcopy(ocupated)\n",
        "\n",
        "    check_kill_no_king_izq(piece_x, ocupated_x,edges)\n",
        "    ocupated.sort()\n",
        "    ocupated_x.sort()\n",
        "    if ocupated!=ocupated_x:\n",
        "      lista.append(1)\n",
        "\n",
        "    piece_x=copy.deepcopy(p)\n",
        "    ocupated_xx=copy.deepcopy(ocupated)\n",
        "\n",
        "    check_kill_no_king_der(piece_x, ocupated_xx,edges)\n",
        "    ocupated.sort()\n",
        "    ocupated_xx.sort()\n",
        "    if ocupated!=ocupated_xx:\n",
        "      lista.append(2)\n",
        "      \n",
        "    if len(lista) == 0:\n",
        "      break\n",
        "\n",
        "    f=random.choice(lista)\n",
        "\n",
        "    z=ocupated\n",
        "\n",
        "    if f==1:\n",
        "          check_kill_no_king_izq(p, z,edges)\n",
        "    if f==2:\n",
        "          check_kill_no_king_der(p, z,edges)\n",
        "    lista=[]"
      ],
      "execution_count": null,
      "outputs": []
    },
    {
      "cell_type": "markdown",
      "metadata": {
        "id": "rho7hYmj5YjT"
      },
      "source": [
        "#Volverse rey\n",
        "El siguiente codigo toma la posición actual y luego la siguiente arrojada por el movimiento disponible de la ficha en ese momento, si existió un cambio en su posicón, no está en la lista de damas y se encuentra en uno de los bordes, su etado de dama pasa a estar activo.\n",
        "\n",
        "Verificar que exista un cambio de movimiento es importante, porque las fichas pueden estar en uno de los bordes donde comenzaron y ser tomadas como damas."
      ]
    },
    {
      "cell_type": "code",
      "metadata": {
        "id": "Lf4FJL5F5aVW"
      },
      "source": [
        "#Se chequea despues de cada función que se llame.\n",
        "\n",
        "def check_if_king_now(pos,p,kings):\n",
        "  edges_arriba=[1,2,3,4,5,6,7,8]\n",
        "  edges_abajo=[57,58,59,60,61,62,63,64]\n",
        "  if pos != p.pos and  p.pos not in kings:\n",
        "    if abs(p.pos) in edges_arriba or abs(p.pos) in edges_abajo:\n",
        "      kings.append(p.pos)"
      ],
      "execution_count": null,
      "outputs": []
    },
    {
      "cell_type": "markdown",
      "metadata": {
        "id": "JsLNVzCk9saF"
      },
      "source": [
        "#Descartar dama caso tal sea eliminado\n",
        "\n",
        "Se realiza una ***intercepción*** entre el listado de damas del tablero actual versus las damas del tablero luego de haber seleccionado una opción de movimiento para una ficha o dama. Si la lista retornada es igual a la original se mantienen las damas, de no ser así se verifica con heuristica para obtener un puntaje para la jugada."
      ]
    },
    {
      "cell_type": "code",
      "metadata": {
        "id": "Z7LzEkNY9wYz"
      },
      "source": [
        "def descartar_rey(ocupated,kings):\n",
        "  kings=list(set(ocupated) & set(kings))\n",
        "  return kings"
      ],
      "execution_count": null,
      "outputs": []
    },
    {
      "cell_type": "markdown",
      "metadata": {
        "id": "nB7k0oo5-2wM"
      },
      "source": [
        "#Verificar movimiento de rey luego de matar o solo moverse"
      ]
    },
    {
      "cell_type": "code",
      "metadata": {
        "id": "oUdJJz7G-7gk"
      },
      "source": [
        "def mov_king(pos,p,kings):\n",
        "  if p.pos in kings and pos in kings:\n",
        "    kings.remove(pos)\n",
        "    kings.append(p.pos)"
      ],
      "execution_count": null,
      "outputs": []
    },
    {
      "cell_type": "markdown",
      "metadata": {
        "id": "HF1LHqup-kDX"
      },
      "source": [
        "#***Movimientos y saltos de damas***"
      ]
    },
    {
      "cell_type": "markdown",
      "metadata": {
        "id": "wyCn5gdRhAyg"
      },
      "source": [
        "#Código para mover ***damas***\n",
        "El movimiento de las damas varia respecto a las fichas convencionales solo en que pueden realizar movimientos y saltos hacia atrás. Los movimientos de ficha convecionales fueron reutilizados en esta sección pero ***solo se agregaron movimiento hacia arriba o hacia abajo en caso de ser roja o blanca respectivamente***."
      ]
    },
    {
      "cell_type": "code",
      "metadata": {
        "id": "jFZHECB8EHvE"
      },
      "source": [
        "def check_no_kill_king_derecha_arriba(piece, ocupated,color):\n",
        "\n",
        "  pos_1=abs(piece.pos) - 7\n",
        "  edges_der=[8,16,24,32,40,48,56,64]\n",
        "  edges_arriba=[1,2,3,4,5,6,7,8]\n",
        "\n",
        "  if  pos_1 not in ocupated and -pos_1 not in ocupated and abs(piece.pos) not in edges_der and abs(piece.pos) not in edges_arriba :\n",
        "    ocupated.remove(piece.pos)\n",
        "    ocupated.append(piece.pos - 7*color)\n",
        "    piece.pos=piece.pos - 7*color\n",
        "\n",
        "def check_no_kill_king_derecha_abajo(piece, ocupated,color):\n",
        "\n",
        "  edges_der=[8,16,24,32,40,48,56,64]\n",
        "  edges_abajo=[57,58,59,60,61,62,63,64]\n",
        "\n",
        "  pos_1=abs(piece.pos) + 9\n",
        "\n",
        "  if  pos_1 not in ocupated and -pos_1 not in ocupated and abs(piece.pos) not in edges_der and abs(piece.pos) not in edges_abajo:\n",
        "    ocupated.remove(piece.pos)\n",
        "    ocupated.append(piece.pos +9*color)\n",
        "    piece.pos=piece.pos +9*color"
      ],
      "execution_count": null,
      "outputs": []
    },
    {
      "cell_type": "code",
      "metadata": {
        "id": "5G02QpDsFzCb"
      },
      "source": [
        "def check_no_kill_king_izquierda_arriba(piece, ocupated,color):\n",
        "  edges_izq=[1,9,17,25,33,41,49,57]\n",
        "  edges_arriba=[1,2,3,4,5,6,7,8]\n",
        "\n",
        "  pos_1=abs(piece.pos) - 9\n",
        "\n",
        "  if  pos_1 not in ocupated and -pos_1 not in ocupated and abs(piece.pos) not in edges_izq and abs(piece.pos) not in edges_arriba:\n",
        "    ocupated.remove(piece.pos)\n",
        "    ocupated.append(piece.pos - 9*color)\n",
        "    piece.pos=piece.pos - 9*color\n",
        "\n",
        "def check_no_kill_king_izquierda_abajo(piece, ocupated,color):\n",
        "  edges_izq=[1,9,17,25,33,41,49,57]\n",
        "  edges_abajo=[57,58,59,60,61,62,63,64]\n",
        "  pos_1=abs(piece.pos) + 7\n",
        "\n",
        "  if  pos_1 not in ocupated and -pos_1 not in ocupated and abs(piece.pos) not in edges_izq and abs(piece.pos) not in edges_abajo:\n",
        "    ocupated.remove(piece.pos)\n",
        "    ocupated.append(piece.pos +7*color)\n",
        "    piece.pos=piece.pos +7*color"
      ],
      "execution_count": null,
      "outputs": []
    },
    {
      "cell_type": "markdown",
      "metadata": {
        "id": "tBK9q_p4hIAZ"
      },
      "source": [
        "#Código para matar con ficha rey\n",
        "Se verifica con los ***mismos movimientos que el saltar con ficha convencional***, pero se verifica no solo frente a la ficha sino atrás de está y tampoco se realizan salto caso tal la ficha a eliminar este en un borde."
      ]
    },
    {
      "cell_type": "code",
      "metadata": {
        "id": "5woaS2IBnQSa"
      },
      "source": [
        "def check_kill_king_derecha_arriba(piece, ocupated,color,edges):\n",
        "\n",
        "  pos_1=abs(piece.pos) - 7\n",
        "  pos_2=abs(piece.pos) - 14\n",
        "\n",
        "  if  -pos_2 not in ocupated and pos_2 not in ocupated and -pos_1*color in ocupated and pos_1 not in edges:\n",
        "    ocupated.remove(piece.pos)\n",
        "    piece.pos=pos_2*color\n",
        "    ocupated.remove(-pos_1*color)\n",
        "    ocupated.append(piece.pos)\n",
        "\n",
        "def check_kill_king_derecha_abajo(piece, ocupated,color,edges):\n",
        "  pos_1=abs(piece.pos) + 9\n",
        "  pos_2=abs(piece.pos) + 18\n",
        "  if  -pos_2 not in ocupated and pos_2 not in ocupated and -pos_1*color in ocupated and pos_1 not in edges:\n",
        "    ocupated.remove(piece.pos)\n",
        "    piece.pos=pos_2*color\n",
        "    ocupated.remove(-pos_1*color)\n",
        "    ocupated.append(piece.pos)"
      ],
      "execution_count": null,
      "outputs": []
    },
    {
      "cell_type": "code",
      "metadata": {
        "id": "tqZ0Ly30hLVG"
      },
      "source": [
        "def check_kill_king_izquierda_arriba(piece, ocupated,color,edges):\n",
        "\n",
        "  pos_1=abs(piece.pos) - 9\n",
        "  pos_2=abs(piece.pos) - 18\n",
        "  if  -pos_2 not in ocupated and pos_2 not in ocupated and -pos_1*color in ocupated and pos_1 not in edges:\n",
        "    ocupated.remove(piece.pos)\n",
        "    piece.pos=pos_2*color\n",
        "    ocupated.remove(-pos_1*color)\n",
        "    ocupated.append(piece.pos)\n",
        "\n",
        "def check_kill_king_izquierda_abajo(piece, ocupated,color,edges):\n",
        "\n",
        "  pos_1=abs(piece.pos) + 7\n",
        "  pos_2=abs(piece.pos) + 14\n",
        "\n",
        "  if  -pos_2 not in ocupated and pos_2 not in ocupated and -pos_1*color in ocupated and pos_1 not in edges:\n",
        "    ocupated.remove(piece.pos)\n",
        "    piece.pos=pos_2*color\n",
        "    ocupated.remove(-pos_1*color)\n",
        "    ocupated.append(piece.pos)"
      ],
      "execution_count": null,
      "outputs": []
    },
    {
      "cell_type": "markdown",
      "metadata": {
        "id": "8wSvhOBI9UTS"
      },
      "source": [
        "#Código para ***matar con Dama de forma iterativa y aleatoria*** cuando existen varias opciones\n",
        "Primero generamos copias del estado actual del tablero y chequeamos los movimientos relacionados con salto de fichas, ***arriba a la derecha***, ***arriba a la izquierda***, ***abajo a la derecha*** y ***abajo a la izquierda***, de cumplirse al menos uno de los casos se selecciona uno aleatoriamente y este devuelve el estado resultante que luego es pasado como el actual y se repite el proceso hasta que no existan opciones que devolver."
      ]
    },
    {
      "cell_type": "code",
      "metadata": {
        "id": "Xnh1ZaCnpkVg"
      },
      "source": [
        "def check_kills_with_king(p,ocupated):\n",
        "\n",
        "  color=p.color\n",
        "  edges=[1,2,3,4,5,6,7,8,16,24,32,40,48,56,64,63,62,61,60,59,58,57,49,41,33,25,17,9]\n",
        "  lista=[]\n",
        "  while True:\n",
        "\n",
        "    piece_x=copy.deepcopy(p)\n",
        "\n",
        "    ocupated_x=copy.deepcopy(ocupated)\n",
        "    check_kill_king_izquierda_abajo(piece_x, ocupated_x,color,edges)\n",
        "    ocupated.sort()\n",
        "    ocupated_x.sort()\n",
        "    if ocupated!=ocupated_x:\n",
        "      lista.append(1)\n",
        "\n",
        "    piece_x=copy.deepcopy(p)\n",
        "    ocupated_xx=copy.deepcopy(ocupated)\n",
        "\n",
        "    check_kill_king_izquierda_arriba(piece_x, ocupated_xx,color,edges)\n",
        "    ocupated.sort()\n",
        "    ocupated_xx.sort()\n",
        "    if ocupated!=ocupated_xx:\n",
        "      lista.append(2)\n",
        "\n",
        "    piece_x=copy.deepcopy(p)\n",
        "    ocupated_xxx=copy.deepcopy(ocupated)\n",
        "        \n",
        "    check_kill_king_derecha_abajo(piece_x, ocupated_xxx,color,edges)\n",
        "    ocupated.sort()\n",
        "    ocupated_xxx.sort()\n",
        "    if ocupated!=ocupated_xxx:\n",
        "      lista.append(3)\n",
        "\n",
        "    piece_x=copy.deepcopy(p)\n",
        "    ocupated_xxxx=copy.deepcopy(ocupated)\n",
        "\n",
        "    check_kill_king_derecha_arriba(piece_x, ocupated_xxxx,color,edges)\n",
        "    ocupated.sort()\n",
        "    ocupated_xxxx.sort()\n",
        "    if ocupated!=ocupated_xxxx:\n",
        "      lista.append(4)\n",
        "    if len(lista) == 0:\n",
        "      break\n",
        "\n",
        "    f=random.choice(lista)\n",
        "\n",
        "    z=ocupated\n",
        "\n",
        "    if f==1:\n",
        "          check_kill_king_izquierda_abajo(p, z,color,edges)\n",
        "    if f==2:\n",
        "          check_kill_king_izquierda_arriba(p, z,color,edges)\n",
        "    if f==3:\n",
        "          check_kill_king_derecha_abajo(p, z,color,edges)\n",
        "    if f==4:\n",
        "          check_kill_king_derecha_arriba(p, z,color,edges)\n",
        "    lista=[]\n"
      ],
      "execution_count": null,
      "outputs": []
    },
    {
      "cell_type": "markdown",
      "metadata": {
        "id": "zFckyhumgwmu"
      },
      "source": [
        "#Heuristica\n",
        "\n",
        "*   Por cada ficha eliminada se agregan 6 puntos\n",
        "*   Por cada ficha expuesta luego de un movimiento se restan 2 puntos\n",
        "*   Volverse dama agrega 5 puntos\n",
        "*   Eliminar una dama agrega 8 puntos\n",
        "*   Las fichas blancas(IA) tienen una penalización mayor a las rojas cuando dejan fichas expuestas\n",
        "*   Se agregan puntos o se restan dependiendo de que cuantas fichas a favor tengamos\n",
        "*   Cada jugada queda registrada con un puntaje, estado del tablero, ficha que se jugó y lista de damas. Los 4 registros anteriores son los atributos de los nodos para armar nuestro árbol\n",
        "\n",
        "***La ejecución de la heuristica genera todas las jugadas posibles para una ficha respecto a un tablero actual***.\n",
        "\n",
        "\n",
        "\n",
        "\n",
        "\n",
        "\n",
        "\n",
        "\n",
        "\n"
      ]
    },
    {
      "cell_type": "code",
      "metadata": {
        "id": "df40IrrCg1Mp"
      },
      "source": [
        "def heuristica(ocupated,kings):\n",
        "  nodos=[]\n",
        "  ocupateD=copy.deepcopy(ocupated)\n",
        "  ocupated.sort()\n",
        "  ocupateD.sort()\n",
        "  for i in ocupateD:\n",
        "\n",
        "    p=piece(i,False, i/abs(i))\n",
        "\n",
        "    sum=0\n",
        "    if i in kings:\n",
        "      p_x_=copy.deepcopy(p)\n",
        "      ocupated_x_=copy.deepcopy(ocupated)\n",
        "      check_kills_with_king(p_x_,ocupated_x_)\n",
        "      ocupated_x_.sort()\n",
        "      if ocupateD!=ocupated_x_:\n",
        "\n",
        "        kings_x_=copy.deepcopy(kings)\n",
        "        p_xx_=copy.deepcopy(p)\n",
        "        kings_xx_=(descartar_rey(ocupated_x_,kings_x_))\n",
        "        kings_xx_.append(p_x_.pos)\n",
        "\n",
        "        if abs(len(kings)-len(kings_xx_)) > 0:\n",
        "          sum=abs(len(kings)-len(kings_xx_))*3\n",
        "\n",
        "        sum=sum+((abs(len(ocupated_x_)-len(ocupated))*6))\n",
        "\n",
        "        #n=node_(ocupated_x_, kings_xx_,sum*p.color,1,i)\n",
        "        n=node_(ocupated_x_, kings_xx_,sum,1,i)\n",
        "        nodos.append(n)\n",
        "\n",
        "      p_xxx_=copy.deepcopy(p)\n",
        "      ocupated_xx_=copy.deepcopy(ocupated)\n",
        "      check_no_kill_king_izquierda_arriba(p_xxx_, ocupated_xx_,p.color)\n",
        "      \n",
        "      if ocupateD!=ocupated_xx_:\n",
        "        kings_xxx_=copy.deepcopy(kings)\n",
        "        kings_xxx_.remove(p.pos)\n",
        "        kings_xxx_.append(p_xxx_.pos)\n",
        "\n",
        "        #n=node_(ocupated_xx_, kings_xxx_,3*p.color,2,i)\n",
        "        n=node_(ocupated_xx_, kings_xxx_,3,2,i)\n",
        "        nodos.append(n)\n",
        "\n",
        "\n",
        "\n",
        "      p_xxxx_=copy.deepcopy(p)\n",
        "      ocupated_xxx_=copy.deepcopy(ocupated)\n",
        "      check_no_kill_king_izquierda_abajo(p_xxxx_, ocupated_xxx_,p.color)\n",
        "      if ocupateD!=ocupated_xxx_:\n",
        "        kings_xxxx_=copy.deepcopy(kings)\n",
        "        kings_xxxx_.remove(p.pos)\n",
        "        kings_xxxx_.append(p_xxxx_.pos)\n",
        "\n",
        "        #n=node_(ocupated_xxx_,kings_xxxx_, 3*p.color,3,i)\n",
        "        n=node_(ocupated_xxx_,kings_xxxx_, 3,3,i)\n",
        "        nodos.append(n)\n",
        "\n",
        "      p_xxxxx_=copy.deepcopy(p)\n",
        "      ocupated_xxxx_=copy.deepcopy(ocupated)\n",
        "      check_no_kill_king_derecha_abajo(p_xxxxx_, ocupated_xxxx_,p.color)\n",
        "      if ocupateD!=ocupated_xxxx_:\n",
        "        kings_xxxxx_=copy.deepcopy(kings)\n",
        "        kings_xxxxx_.remove(p.pos)\n",
        "        kings_xxxxx_.append(p_xxxxx_.pos)\n",
        "        #n=node_(ocupated_xxxx_,kings_xxxxx_,3*p.color,4,i)\n",
        "        n=node_(ocupated_xxxx_,kings_xxxxx_,3,4,i)\n",
        "        nodos.append(n)\n",
        "\n",
        "\n",
        "      p_xxxxxx_=copy.deepcopy(p)\n",
        "      ocupated_xxxxxx_=copy.deepcopy(ocupated)\n",
        "      check_no_kill_king_derecha_arriba(p_xxxxxx_, ocupated_xxxxxx_,p.color)\n",
        "      if ocupateD!=ocupated_xxxxxx_:\n",
        "        kings_xxxxxx_=copy.deepcopy(kings)\n",
        "        kings_xxxxxx_.remove(p.pos)\n",
        "        kings_xxxxxx_.append(p_xxxxxx_.pos)\n",
        "        #n=node_(ocupated_xxxxxx_,kings_xxxxxx_, 3*p.color,5,i)\n",
        "        n=node_(ocupated_xxxxxx_,kings_xxxxxx_, 3,5,i)\n",
        "        nodos.append(n)\n",
        "\n",
        "    else:\n",
        "      p_x=copy.deepcopy(p)\n",
        "      kings_x=copy.deepcopy(kings)\n",
        "      pos_x=copy.deepcopy(p.pos)\n",
        "      ocupated_x=copy.deepcopy(ocupated)\n",
        "\n",
        "      check_kills_with_no_king(p_x,ocupated_x)\n",
        "      ocupated_x.sort()\n",
        "      ocupated_x_=[]\n",
        "      kings_xx_=[]\n",
        "      if ocupateD!=ocupated_x:\n",
        "\n",
        "\n",
        "        kings_x=copy.deepcopy(kings)\n",
        "        check_if_king_now(pos_x,p_x,kings_x)\n",
        "        kings_xx=(descartar_rey(ocupated_x,kings_x))\n",
        "        kings.sort()\n",
        "        kings_x.sort()\n",
        "\n",
        "        #sum=((abs(len(ocupated_x)-len(ocupated))*6)*p.color)\n",
        "        #sum=((abs(len(ocupated_x)-len(ocupated))*6))\n",
        "        kings_z=copy.deepcopy(kings)\n",
        "        new_kings=[]\n",
        "        if p_x.pos in kings_xx:\n",
        "\n",
        "          #kings_y=copy.deepcopy(kings)\n",
        "          #kings_yy=(descartar_rey(ocupated_x,kings_y))\n",
        "          #sum=sum+abs(len(kings_y)-len(kings_xx_))*7*p.color\n",
        "          #kings_yy.append(p_x.pos)\n",
        "\n",
        "          ##\n",
        "          p_x_=copy.deepcopy(p)\n",
        "          ocupated_x_=copy.deepcopy(ocupated)\n",
        "          check_kills_with_king(p_x_,ocupated_x_)\n",
        "          #ocupateD.sort()\n",
        "          ocupated_x_.sort()\n",
        "\n",
        "          if ocupateD!=ocupated_x_:\n",
        "            sum=sum+((abs(len(ocupated_x_)-len(ocupated))*6))\n",
        "\n",
        "            kings_x_=copy.deepcopy(kings)\n",
        "            p_xx_=copy.deepcopy(p)\n",
        "            kings_xx_=(descartar_rey(ocupated_x_,kings_x_))\n",
        "            sum=sum+abs(len(kings_x_)-len(kings_xx_))*3\n",
        "            kings_xx_.append(p_x_.pos)\n",
        "            #n=node_(ocupated_x_, kings_xx_,(sum+5)*p.color,4,i)\n",
        "          n=node_(ocupated_x_, kings_xx_,(sum+5),6,i)\n",
        "          nodos.append(n)\n",
        "        else:\n",
        "          sum=((abs(len(ocupated_x)-len(ocupated))*6))\n",
        "          if abs(len(kings_x)-len(kings_xx)) >0:\n",
        "            sum=sum+abs(len(kings_x)-len(kings_xx))*3\n",
        "          #n=node_(ocupated_x, kings_xx,(sum)*p.color,4,i)\n",
        "          n=node_(ocupated_x, kings_xx,(sum),6,i)\n",
        "          nodos.append(n)\n",
        "\n",
        "\n",
        "          ##\n",
        "\n",
        "          #sum=sum+(5*p.color) + abs(len(kings_x)-len(kings_xx))*12*p.color\n",
        "          #x=copy.deepcopy(ocupated_x)\n",
        "          #check_kills_with_king(p_x,ocupated_x)\n",
        "          #new_kings=descartar_rey(ocupated_x,kings_xx)\n",
        "          #x.sort()\n",
        "          #ocupated_x.sort()\n",
        "          #new_kings.append(p_x.pos)\n",
        "          #mov_king(p_x.pos,p,kings_z)\n",
        "          #if x != ocupated:\n",
        "            #sum=sum+abs(len(ocupated_x)-len(x))*10*p.color\n",
        "\n",
        "        #n=node_(ocupated_x,kings_z,sum,6,i)\n",
        "        #sum=0\n",
        "        #nodos.append(n)\n",
        "\n",
        "      p_xx=copy.deepcopy(p)\n",
        "      ocupated_xx=copy.deepcopy(ocupated)\n",
        "\n",
        "\n",
        "      check_no_kill_no_king_izquierda(p_xx, ocupated_xx)\n",
        "\n",
        "      if ocupateD!=ocupated_xx:\n",
        "        kings_x=copy.deepcopy(kings)\n",
        "        check_if_king_now(i,p_xx,kings_x)\n",
        "        #sum=abs(len(kings)-len(kings_x))*8*p.color\n",
        "        sum=abs(len(kings)-len(kings_x))*8\n",
        "        #n=node_(ocupated_xx,kings_x,(sum+3)*p.color,7,i)\n",
        "        n=node_(ocupated_xx,kings_x,(sum+3),7,i)\n",
        "\n",
        "        nodos.append(n)\n",
        "\n",
        "      p_xxx=copy.deepcopy(p)\n",
        "      ocupated_xxx=copy.deepcopy(ocupated)\n",
        "\n",
        "\n",
        "      check_no_kill_no_king_derecha(p_xxx, ocupated_xxx)\n",
        "      if ocupateD!=ocupated_xxx:\n",
        "        kings_xx=copy.deepcopy(kings)\n",
        "        check_if_king_now(i,p_xxx,kings_xx)\n",
        "        #sum=abs(len(kings)-len(kings_xx))*8*p.color\n",
        "        sum=abs(len(kings)-len(kings_xx))*8\n",
        "        #n=node_(ocupated_xxx,kings_xx, (sum+3)*p.color,8,i)\n",
        "        n=node_(ocupated_xxx,kings_xx, (sum+3),8,i)\n",
        "        nodos.append(n)\n",
        "\n",
        "  #nodos_k=[]\n",
        "  #for z in nodos:\n",
        "    #if z.play == 1 or z.play==4 or z.play == 6:\n",
        "      #nodos_k.append(z)\n",
        "  #if len(nodos_k)>0:\n",
        "    #return nodos_k\n",
        "  #else:\n",
        "    #return nodos\n",
        "  return nodos"
      ],
      "execution_count": null,
      "outputs": []
    },
    {
      "cell_type": "code",
      "metadata": {
        "id": "9eqpc70gxNrk"
      },
      "source": [
        "def heuristica_machine(ocupated,kings):\n",
        "  que=heuristica(ocupated,kings)\n",
        "  for  j in que:\n",
        "    #z.heuristica=z.heuristica+sum(1 for i in z.estado if i > 0)-sum(1 for i in z.estado if i < 0)\n",
        "    if j.ficha > 0:\n",
        "      #j.heuristica=j.heuristica+(sum(1 for i in j.estado if i > 0)-sum(1 for i in j.estado if i < 0))\n",
        "      result=[]\n",
        "      result = [i for i in j.estado if i > 0]\n",
        "      q=heuristica(j.estado,j.kings)\n",
        "      for h in q:\n",
        "        if h.ficha < 0:\n",
        "          t=list(set(result) & set(h.estado))\n",
        "          t.sort()\n",
        "          result.sort()\n",
        "          if t != result :\n",
        "            dif=len(t)-len(result)\n",
        "            j.heuristica=j.heuristica+(abs(dif)*(-1)*20)\n",
        "\n",
        "  nodos_k=[]\n",
        "  for z in que:\n",
        "    if z.ficha > 0:\n",
        "      if z.play == 1 or z.play == 6:\n",
        "        nodos_k.append(z)\n",
        "  if len(nodos_k)>0:\n",
        "    return nodos_k\n",
        "  else:\n",
        "    return que\n",
        "\n",
        "  #return que"
      ],
      "execution_count": null,
      "outputs": []
    },
    {
      "cell_type": "code",
      "metadata": {
        "id": "yxCaoZO7F0Uc"
      },
      "source": [
        "def heuristica_hombre(ocupated,kings):\n",
        "  que=heuristica(ocupated,kings)\n",
        "  for  j in que:\n",
        "    j.heuristica=j.heuristica+(sum(1 for i in j.estado if i < 0)-sum(1 for i in j.estado if i > 0))\n",
        "    if j.ficha < 0:\n",
        "      result=[]\n",
        "      result = [i for i in j.estado if i < 0]\n",
        "      q=heuristica(j.estado,j.kings)\n",
        "\n",
        "      for h in q:\n",
        "        if h.ficha > 0:\n",
        "          t=list(set(result) & set(h.estado))\n",
        "          t.sort()\n",
        "          result.sort()\n",
        "          if t != result :\n",
        "            dif=len(t)-len(result)\n",
        "            j.heuristica=j.heuristica+(abs(dif)*(-1)*10)\n",
        "\n",
        "  nodos_k=[]\n",
        "  for z in que:\n",
        "    if z.ficha < 0:\n",
        "      if z.play == 1 or z.play == 6:\n",
        "        nodos_k.append(z)\n",
        "    if len(nodos_k)>0:\n",
        "      return nodos_k\n",
        "    else:\n",
        "      return que\n",
        "\n",
        "  #return que"
      ],
      "execution_count": null,
      "outputs": []
    },
    {
      "cell_type": "markdown",
      "metadata": {
        "id": "lwMBxBqrP24c"
      },
      "source": [
        "#Creación del árbol\n",
        "\n",
        "Para la creación de los niveles máximo y mínimo usamos la heuristica definida anterior pero dependiendo del nivel que queremos se llama bajo una condición en la cual se verifica si el valor de la ficha es negativo(rojo) o positivo(blanco) y se arman los niveles máximo y mínimo respectivamente hasta llegar  a los nodos hoja donde se guardan los valores de cada heuristica del nivel anterior.\n",
        "\n"
      ]
    },
    {
      "cell_type": "code",
      "metadata": {
        "id": "IsZkqe1HP0kt"
      },
      "source": [
        "def Gametree(root,depth,level,heuristica):\n",
        "  if depth==0:\n",
        "    root.play=heuristica\n",
        "    return\n",
        "  if level == 1: #maquina\n",
        "    q_=heuristica_machine(root.estado,root.kings)\n",
        "    for i in q_:\n",
        "      if i.ficha > 0:\n",
        "        table=node_(i.estado,i.kings,i.heuristica,i.play,i.ficha) #crea un nodo el estado del tablero\n",
        "        root.posibility.append(table)\n",
        "        Gametree(table,depth-1,0,i.heuristica)\n",
        "  if level==0: #humano\n",
        "    q=heuristica_hombre(root.estado,root.kings)\n",
        "    for i in q:\n",
        "      if i.ficha < 0:\n",
        "        table=node_(i.estado,i.kings,i.heuristica,i.play,i.ficha) #crea un nodo el estado del tablero\n",
        "        root.posibility.append(table)\n",
        "        Gametree(table,depth-1,1,i.heuristica)"
      ],
      "execution_count": null,
      "outputs": []
    },
    {
      "cell_type": "markdown",
      "metadata": {
        "id": "8IgMFnWSzm2A"
      },
      "source": [
        "#Algoritmo Minimax"
      ]
    },
    {
      "cell_type": "code",
      "metadata": {
        "id": "UNU7jKOHra7f"
      },
      "source": [
        "def minimax(node,depth,alpha,beta,maximizingNode,z):\n",
        "  if depth == 0:\n",
        "    return node\n",
        "  if maximizingNode: #nodo de maximizar\n",
        "    bestValue= -9999999\n",
        "    if len(node.posibility) > 0:\n",
        "      for i in node.posibility:\n",
        "        v=minimax(i,depth-1,alpha,beta,False,z)\n",
        "        nodo=v\n",
        "        #bestValue= max(bestValue,v)\n",
        "        if v.heuristica > bestValue:\n",
        "          bestValue= v.heuristica\n",
        "          if depth==z:\n",
        "            k=i\n",
        "        if bestValue > alpha:\n",
        "          alpha=bestValue\n",
        "        if alpha >= beta:\n",
        "          break;\n",
        "      if depth==z:\n",
        "        return k\n",
        "      else:\n",
        "        return nodo #Problema\n",
        "\n",
        "    else:\n",
        "      return node\n",
        "\n",
        "\n",
        "  else: #nodo de minimizar\n",
        "    bestValue= 9999999\n",
        "    if len(node.posibility) > 0:\n",
        "      for i in node.posibility:\n",
        "        v=minimax(i,depth-1,alpha,beta,True,z)\n",
        "        nodo=v\n",
        "        #bestValue= min(bestValue,v)\n",
        "        if v.heuristica < bestValue:\n",
        "          bestValue= v.heuristica\n",
        "        if bestValue < beta:\n",
        "          beta=bestValue\n",
        "        if alpha >= beta:\n",
        "          break\n",
        "      return nodo \n",
        "    else:\n",
        "      return node\n",
        "  \n"
      ],
      "execution_count": null,
      "outputs": []
    },
    {
      "cell_type": "markdown",
      "metadata": {
        "id": "ea8mcu3xzNWn"
      },
      "source": [
        "#Ejecución final\n",
        "\n",
        "La máquina siempre comienza, luego se plasmaran las jugadas posibles que podemos hacer. Se imprimen dos tableros, el primero tiene en el: \n",
        "\n",
        "*   Fichas a jugar \"N\"\n",
        "*   Damas a jugar \"O\"\n",
        "*   Fichas enemigas \"Y\"\n",
        "*   Damas enemigas \"X\"\n",
        "*   Posición vacia \"_\"\n",
        "\n",
        "El segundo tablero es una matriz 8x8 con posiciones de 1 a 64, si una posición está ocupada por una ficha positiva, se verá el valor de la posición y de ser una ficha negativa se verá la posición pero negativa y de estar desocupada, solo se verá  un guión bajo \"_\".\n",
        "\n",
        "Inicialmente se imprime un estado donde las fichas blancas hicieron la primera jugada. Cuando jugamos nosotros y seleccionamos una jugada, se imprime nuevamente ambas matrices pero incluyendo el movimiento que hicieron las fichas blancas luego de nuestra jugada. La siguiente imagen es la ejecución del juego luego de la primera jugada realizada por las blanca:\n",
        "\n",
        "\n",
        "![tablero.PNG](data:image/png;base64,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)\n",
        "\n",
        "***Siempre moveremos fichas negativas y la IA se encargará de las positivas***.\n",
        "\n",
        "\n"
      ]
    },
    {
      "cell_type": "code",
      "metadata": {
        "id": "4JUnwlh8uq9_"
      },
      "source": [
        "def constab(ocupated,kings):\n",
        "    tab0=[]\n",
        "    for i in range(1,65):\n",
        "        if (i in ocupated):\n",
        "            if (i in kings):\n",
        "                tab0.append(\"X\")\n",
        "            else:\n",
        "                tab0.append(\"Y\")\n",
        "        elif (-i in ocupated):\n",
        "            if (-i in kings):\n",
        "                tab0.append(\"O\")\n",
        "            else:\n",
        "                tab0.append(\"N\")\n",
        "        else:\n",
        "            tab0.append(\"_\")\n",
        "    \n",
        "    return tab0"
      ],
      "execution_count": null,
      "outputs": []
    },
    {
      "cell_type": "code",
      "metadata": {
        "id": "9QuQTaUNBCpY"
      },
      "source": [
        "def constab_num(ocupated,kings):\n",
        "    tab0=[]\n",
        "    st=\"\"\n",
        "    for i in range(1,65):\n",
        "        if i in ocupated:\n",
        "            if i<=9:\n",
        "                st=\"  \"\n",
        "            else:\n",
        "                st=\" \"\n",
        "            tab0.append(st+str(i))\n",
        "        elif -i in ocupated:\n",
        "            if i<=9:\n",
        "                st=\" -\"\n",
        "            else:\n",
        "                st=\"-\"  \n",
        "            tab0.append(st+str(i))\n",
        "        else:\n",
        "            tab0.append(\"___\")\n",
        "    return tab0"
      ],
      "execution_count": null,
      "outputs": []
    },
    {
      "cell_type": "markdown",
      "metadata": {
        "id": "79dsQsq853BQ"
      },
      "source": [
        "\n",
        "#***Profundidad del árbol es 3, si se desa cambiar debe modificarse de forma igual los valores resltados en la imagen para la cual profundidad es 5 **\n",
        "\n",
        "![Last.PNG](data:image/png;base64,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)"
      ]
    },
    {
      "cell_type": "code",
      "metadata": {
        "id": "eGd39xbQX2oh"
      },
      "source": [
        "def jugar():\n",
        "  ocupated=[41,57,50,43,59,52,45,61,54,47,63,56,\n",
        "            -9,-2,-18,-11,-4,-20,-13,-6,-22,-15,-8,-24\n",
        "            ]\n",
        "  kings=[]\n",
        "  global t\n",
        "  turno=0\n",
        "  while True:\n",
        "    \n",
        "    root=node_(ocupated,kings,0,0,0)\n",
        "    Gametree(root,3,1,1)\n",
        "    t=minimax(root,3,-9999999,9999999,True,3)\n",
        "    ocupated=t.estado\n",
        "    kings=t.kings\n",
        "\n",
        "    tab=constab(ocupated,kings)\n",
        "    print(np.array(tab).reshape(8,8))\n",
        "    tab_num=constab_num(ocupated,kings)\n",
        "    print(\"\\n\")\n",
        "    print(np.array(tab_num).reshape(8,8))\n",
        "    opciones=[]\n",
        "\n",
        "\n",
        "    if len(kings) == 2 and sum(1 for i in kings if i > 0) == sum(1 for i in kings if i < 0) and len(ocupated) == 2:\n",
        "      print(\"Empate\")\n",
        "      break\n",
        "\n",
        "    if sum(1 for i in ocupated if i > 0) == 0 and sum(1 for i in ocupated if i < 0) > 0:\n",
        "      print(\"Ganaste\")\n",
        "      break\n",
        "    \n",
        "    if sum(1 for i in ocupated if i < 0) == 0 and sum(1 for i in ocupated if i > 0) > 0:\n",
        "      print(\"Perdiste\")\n",
        "      break\n",
        "\n",
        "    q=heuristica_hombre(ocupated,kings)\n",
        "\n",
        "    if len(kings) == 2 and sum(1 for i in kings if i > 0) == sum(1 for i in kings if i < 0) and len(ocupated) == 2:\n",
        "      print(\"Empate\")\n",
        "      break\n",
        "\n",
        "    if sum(1 for i in ocupated if i > 0) == 0 and sum(1 for i in ocupated if i < 0) > 0:\n",
        "      print(\"Ganaste\")\n",
        "      break\n",
        "    \n",
        "    if sum(1 for i in ocupated if i < 0) == 0 and sum(1 for i in ocupated if i > 0) > 0:\n",
        "      print(\"Perdiste\")\n",
        "      break\n",
        "    k=1\n",
        "\n",
        "    nodos_k=[]\n",
        "\n",
        "    for z in q:\n",
        "      if z.ficha < 0:\n",
        "        if z.play == 1 or z.play==6:\n",
        "          nodos_k.append(z)\n",
        "    if len(nodos_k)>0:\n",
        "      q=nodos_k\n",
        "\n",
        "    for i in q:\n",
        "\n",
        "      if i.ficha < 0:\n",
        "        opciones.append(i)\n",
        "\n",
        "        acciones = {\n",
        "          \"1\": \"Matar con rey\",\n",
        "          \"2\": \"Mover rey izquierda_arriba\",\n",
        "          \"3\": \"Mover rey izquierda_abajo\",\n",
        "          \"4\": \"Mover rey derecha_abajo\",\n",
        "          \"5\": \"Mover rey derecha_arriba\",\n",
        "          \"6\": \"Matar con ficha\",\n",
        "          \"7\": \"Mover derecha\",\n",
        "          \"8\": \"Mover izquierda\"\n",
        "        }\n",
        "        if len(opciones) == 0:\n",
        "          print(\"Perdiste\")\n",
        "\n",
        "        txt=\"Opción #{}   Ficha a mover: {}   -   Jugada a realizar: {} \".format(k,i.ficha,acciones[str(i.play)])\n",
        "        print(txt)\n",
        "        k=k+1\n",
        "    print(len(opciones))\n",
        "    select=input(\"Seleccione opción: \")\n",
        "    ocupated=opciones[int(select)-1].estado\n",
        "    kings=opciones[int(select)-1].kings\n"
      ],
      "execution_count": null,
      "outputs": []
    },
    {
      "cell_type": "markdown",
      "metadata": {
        "id": "dAV2Lhei7F4Q"
      },
      "source": [
        "#Play"
      ]
    },
    {
      "cell_type": "code",
      "metadata": {
        "id": "8ho9-XE37HVq"
      },
      "source": [
        "jugar()"
      ],
      "execution_count": null,
      "outputs": []
    }
  ]
}